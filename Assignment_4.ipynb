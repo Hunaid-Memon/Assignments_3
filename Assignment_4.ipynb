{
  "nbformat": 4,
  "nbformat_minor": 0,
  "metadata": {
    "colab": {
      "name": "Assignment_4.ipynb",
      "provenance": [],
      "collapsed_sections": [],
      "authorship_tag": "ABX9TyMTUUb07VvbqdfEcdDhtVC1"
    },
    "kernelspec": {
      "display_name": "Python 3",
      "name": "python3"
    },
    "language_info": {
      "name": "python"
    }
  },
  "cells": [
    {
      "cell_type": "code",
      "metadata": {
        "id": "qTlvpnPuWjqT"
      },
      "source": [
        "## Make a calculator using Python with addition , subtraction ,\n",
        "## multiplication ,division and power."
      ],
      "execution_count": null,
      "outputs": []
    },
    {
      "cell_type": "code",
      "metadata": {
        "colab": {
          "base_uri": "https://localhost:8080/"
        },
        "id": "Gcn3Ue_MxEBD",
        "outputId": "ff9f9e52-6c94-4124-d07d-3de0af8a8057"
      },
      "source": [
        "print('Please select Number for operation \\n' '1 - Addition \\n'  '2 - Subtraction \\n'  '3 - Multiplication \\n'  '4 - Division \\n'  '5 - Power \\n')\n",
        "select = int(input(\"Select operations 1, 2, 3, 4, 5 :\"))\n",
        "number_1 = int(input(\"Enter first number: \"))\n",
        "number_2 = int(input(\"Enter second number: \"))\n",
        "\n",
        "def add(num1, num2):\n",
        "    return num1 + num2\n",
        "  \n",
        "def subtract(num1, num2):\n",
        "    return num1 - num2\n",
        "\n",
        "def multiply(num1, num2):\n",
        "    return num1 * num2\n",
        "\n",
        "def divide(num1, num2):\n",
        "    return num1 / num2\n",
        "\n",
        "def power(num1, num2):\n",
        "    return pow(num1, num2)\n",
        "\n",
        "if select == 1:\n",
        "    print(number_1, \"+\", number_2, \"=\", add(number_1, number_2))\n",
        "  \n",
        "elif select == 2:\n",
        "    print(number_1, \"-\", number_2, \"=\", subtract(number_1, number_2))\n",
        "  \n",
        "elif select == 3:\n",
        "    print(number_1, \"*\", number_2, \"=\", multiply(number_1, number_2))\n",
        "  \n",
        "elif select == 4:\n",
        "    print(number_1, \"/\", number_2, \"=\", divide(number_1, number_2))\n",
        "elif select == 5:\n",
        "    print(number_1, \"^\", number_2, \"=\", power(number_1, number_2))\n",
        "else:\n",
        "    print(\"Invalid input\")\n"
      ],
      "execution_count": null,
      "outputs": [
        {
          "output_type": "stream",
          "name": "stdout",
          "text": [
            "Please select Number for operation \n",
            "1 - Addition \n",
            "2 - Subtraction \n",
            "3 - Multiplication \n",
            "4 - Division \n",
            "5 - Power \n",
            "\n",
            "Select operations 1, 2, 3, 4, 5 :5\n",
            "Enter first number: 25\n",
            "Enter second number: 2\n",
            "25 ^ 2 = 625\n"
          ]
        }
      ]
    },
    {
      "cell_type": "code",
      "metadata": {
        "id": "F2ML4PnM8f88"
      },
      "source": [
        "# Write a program to check if there is any numeric value in list using for loop.\n"
      ],
      "execution_count": null,
      "outputs": []
    },
    {
      "cell_type": "code",
      "metadata": {
        "id": "LKTvTbeT8l7v"
      },
      "source": [
        "listItem = ['Apple', 'Banana', 25, 54 , 58, 87]\n",
        "flag = 'true'\n",
        "for item in listItem:\n",
        "    if isinstance(item, int):\n",
        "      flag = 'false'\n",
        "      if flag == 'false':\n",
        "        break\n",
        "        \n"
      ],
      "execution_count": null,
      "outputs": []
    },
    {
      "cell_type": "code",
      "metadata": {
        "id": "l9R6TsFgDDT3"
      },
      "source": [
        "# Write a Python script to add a key to a dictionary."
      ],
      "execution_count": null,
      "outputs": []
    },
    {
      "cell_type": "code",
      "metadata": {
        "colab": {
          "base_uri": "https://localhost:8080/"
        },
        "id": "kbJe0_KOBUE5",
        "outputId": "b4284b7f-5489-4752-afc3-d6abe71688da"
      },
      "source": [
        "dic = {\n",
        "    \"car\": \"Mehran\",\n",
        "    \"Company\": \"Suzuki\",\n",
        "    \"Model\": 2005\n",
        "}\n",
        "dic[\"speed\"] = 800\n",
        "print(dic)"
      ],
      "execution_count": null,
      "outputs": [
        {
          "output_type": "stream",
          "name": "stdout",
          "text": [
            "{'car': 'Mehran', 'Company': 'Suzuki', 'Model': 2005, 'speed': 800}\n"
          ]
        }
      ]
    },
    {
      "cell_type": "code",
      "metadata": {
        "id": "fUMNQosECxdU"
      },
      "source": [
        "# 4. Write a Python program to sum all the numeric items in a dictionary."
      ],
      "execution_count": null,
      "outputs": []
    },
    {
      "cell_type": "code",
      "metadata": {
        "colab": {
          "base_uri": "https://localhost:8080/"
        },
        "id": "KJcGYIdZDM71",
        "outputId": "b3e9b65a-4990-4483-cb5a-7262524413a7"
      },
      "source": [
        "sampleDic = { \"a\": 25, \"b\": 25, \"c\": 25 }\n",
        "\n",
        "def allSum(add):\n",
        "  sum = 0\n",
        "  for i in sampleDic:\n",
        "    sum = sum + sampleDic[i]\n",
        "\n",
        "  return sum\n",
        "print(\"Dictionary Total\", allSum(sampleDic))"
      ],
      "execution_count": null,
      "outputs": [
        {
          "output_type": "stream",
          "name": "stdout",
          "text": [
            "Dictionary Total 75\n"
          ]
        }
      ]
    },
    {
      "cell_type": "code",
      "metadata": {
        "id": "CleXELYiHmkj"
      },
      "source": [
        "# 5. Write a program to identify duplicate values from list."
      ],
      "execution_count": null,
      "outputs": []
    },
    {
      "cell_type": "code",
      "metadata": {
        "colab": {
          "base_uri": "https://localhost:8080/"
        },
        "id": "7vtFXQ6FJA_N",
        "outputId": "d4fb6e68-6a60-4362-e637-50e470d8a2fb"
      },
      "source": [
        "def Repeat(x):\n",
        "    _size = len(x)\n",
        "    repeated = []\n",
        "    for i in range(_size):\n",
        "        k = i + 1\n",
        "        for j in range(k, _size):\n",
        "            if x[i] == x[j] and x[i] not in repeated:\n",
        "                repeated.append(x[i])\n",
        "    return repeated\n",
        " \n",
        "# Driver Code\n",
        "list1 = [20,50,40,20,20,80,90]\n",
        "print (Repeat(list1))"
      ],
      "execution_count": null,
      "outputs": [
        {
          "output_type": "stream",
          "name": "stdout",
          "text": [
            "[20]\n"
          ]
        }
      ]
    },
    {
      "cell_type": "code",
      "metadata": {
        "id": "sUCrYvv4JFnv"
      },
      "source": [
        "# 6. Write a Python script to check if a given key already exists in a dictionary"
      ],
      "execution_count": null,
      "outputs": []
    },
    {
      "cell_type": "code",
      "metadata": {
        "colab": {
          "base_uri": "https://localhost:8080/"
        },
        "id": "U4xinlZcJ9aW",
        "outputId": "6d9a5d13-2bbf-4445-bce0-22c015888bd0"
      },
      "source": [
        "d = {1: 10, 2: 20, 3: 30, 4: 40, 5: 50, 6: 60}\n",
        "def is_key_present(x):\n",
        "  if x in d:\n",
        "      print('Key is present in the dictionary')\n",
        "  else:\n",
        "      print('Key is not present in the dictionary')\n",
        "is_key_present(5)\n"
      ],
      "execution_count": null,
      "outputs": [
        {
          "output_type": "stream",
          "name": "stdout",
          "text": [
            "Key is present in the dictionary\n"
          ]
        }
      ]
    }
  ]
}