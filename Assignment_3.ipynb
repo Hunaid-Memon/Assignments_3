{
  "nbformat": 4,
  "nbformat_minor": 0,
  "metadata": {
    "colab": {
      "name": "Assignment_3.ipynb",
      "provenance": [],
      "collapsed_sections": []
    },
    "kernelspec": {
      "name": "python3",
      "display_name": "Python 3"
    },
    "language_info": {
      "name": "python"
    }
  },
  "cells": [
    {
      "cell_type": "code",
      "metadata": {
        "id": "xESHm-Y2wq5G"
      },
      "source": [
        "#  Hunaid M Hanif\n",
        "\n",
        "# Q - 1\n",
        "#Write a Python program to print the following string in a specific format (see the\n",
        "# output).\n",
        "\n",
        "# Twinkle, twinkle, little star,\n",
        "# How I wonder what you are!\n",
        "# Up above the world so high,\n",
        "# Like a diamond in the sky.\n",
        "\n",
        "# Twinkle, twinkle, little star,\n",
        "# How I wonder what you are"
      ],
      "execution_count": null,
      "outputs": []
    },
    {
      "cell_type": "code",
      "metadata": {
        "colab": {
          "base_uri": "https://localhost:8080/"
        },
        "id": "HQ8tGyNGyAWn",
        "outputId": "d7acae2b-befc-4ebd-c704-15e5d1d3cfb0"
      },
      "source": [
        "print('Twinkle, twinkle, little star,')\n",
        "print(' '* 8,'How I wonder what you are!')\n",
        "print(' '* 15,'Up above the world so high,')\n",
        "print(' '* 15,'Like a diamond in the sky.')\n",
        "print('Twinkle, twinkle, little star,')\n",
        "print(' '* 8,'How I wonder what you are!')"
      ],
      "execution_count": null,
      "outputs": [
        {
          "output_type": "stream",
          "name": "stdout",
          "text": [
            "Twinkle, twinkle, little star,\n",
            "         How I wonder what you are!\n",
            "                Up above the world so high,\n",
            "                Like a diamond in the sky.\n",
            "Twinkle, twinkle, little star,\n",
            "         How I wonder what you are!\n"
          ]
        }
      ]
    },
    {
      "cell_type": "code",
      "metadata": {
        "id": "DwP0GmCI0TNx"
      },
      "source": [
        "#Q - 2 Write a Python program to get the Python version you are using"
      ],
      "execution_count": null,
      "outputs": []
    },
    {
      "cell_type": "code",
      "metadata": {
        "colab": {
          "base_uri": "https://localhost:8080/"
        },
        "id": "yNgKAq5K0cRN",
        "outputId": "f8d4ae81-a013-4e6b-b5c0-02b68ad570cf"
      },
      "source": [
        "from platform import python_version\n",
        "\n",
        "print('Python Version:', python_version())"
      ],
      "execution_count": null,
      "outputs": [
        {
          "output_type": "stream",
          "name": "stdout",
          "text": [
            "Python Version: 3.7.12\n"
          ]
        }
      ]
    },
    {
      "cell_type": "code",
      "metadata": {
        "id": "-Pwm7ZDm1DIZ"
      },
      "source": [
        "# Q - 3 Write a Python program to display the current date and time."
      ],
      "execution_count": null,
      "outputs": []
    },
    {
      "cell_type": "code",
      "metadata": {
        "colab": {
          "base_uri": "https://localhost:8080/"
        },
        "id": "wQnq4ZUN1ICk",
        "outputId": "60ca15b3-5733-4678-81a2-d922e7bb78ce"
      },
      "source": [
        "from datetime import datetime\n",
        "\n",
        "print('Current Date and Time:', datetime.now())"
      ],
      "execution_count": null,
      "outputs": [
        {
          "output_type": "stream",
          "name": "stdout",
          "text": [
            "Current Date and Time: 2021-10-22 07:14:13.682386\n"
          ]
        }
      ]
    },
    {
      "cell_type": "code",
      "metadata": {
        "id": "grX9J0Fz2ZL9"
      },
      "source": [
        "# Q - 4 Write a Python program which accepts the radius of a circle from the user and compute\n",
        "#        the area."
      ],
      "execution_count": null,
      "outputs": []
    },
    {
      "cell_type": "code",
      "metadata": {
        "colab": {
          "base_uri": "https://localhost:8080/"
        },
        "id": "0BgmaoJP2jzN",
        "outputId": "80b7ac5a-7ff2-46e7-8547-4a6b2d555a07"
      },
      "source": [
        "import math as M\n",
        "PI = 3.14\n",
        "Radius = float(input(\"Please enter the radius of circle: \"))\n",
        "area = PI * Radius * Radius\n",
        "print('The area of the circle is: ', round(area,2))  "
      ],
      "execution_count": null,
      "outputs": [
        {
          "output_type": "stream",
          "name": "stdout",
          "text": [
            "Please enter the radius of circle: 5\n",
            "The area of the circle is:  78.5\n"
          ]
        }
      ]
    },
    {
      "cell_type": "code",
      "metadata": {
        "id": "It8kGkj_5kt-"
      },
      "source": [
        "# Q - 5 Write a Python program which accepts the user's first and last name and print them in\n",
        "#         reverse order with a space between them."
      ],
      "execution_count": null,
      "outputs": []
    },
    {
      "cell_type": "code",
      "metadata": {
        "colab": {
          "base_uri": "https://localhost:8080/"
        },
        "id": "FIeb33GO5wfl",
        "outputId": "a3b50c13-e2b3-4b60-c6c5-ce0cd8b7c243"
      },
      "source": [
        "firstName = input('Please enter first name:')\n",
        "lastName = input('Please enter last name:')\n",
        "print(lastName,' ',firstName)"
      ],
      "execution_count": null,
      "outputs": [
        {
          "output_type": "stream",
          "name": "stdout",
          "text": [
            "Please enter first name:Hunaid\n",
            "Please enter last name:Hanif\n",
            "Hanif   Hunaid\n"
          ]
        }
      ]
    },
    {
      "cell_type": "code",
      "metadata": {
        "id": "F7TMgy3F7F1O"
      },
      "source": [
        "# Q - 6 Write a python program which takes two inputs from user and print them addition"
      ],
      "execution_count": null,
      "outputs": []
    },
    {
      "cell_type": "code",
      "metadata": {
        "colab": {
          "base_uri": "https://localhost:8080/"
        },
        "id": "KSTlQak-7S1C",
        "outputId": "eec0a27c-d0ef-4cc2-db7d-9b06f5951d3b"
      },
      "source": [
        "num1 = float(input('please enter first number'))\n",
        "num2 = float(input('please enter second number'))\n",
        "add = num1 + num2\n",
        "print('Addition of both number: ', add)"
      ],
      "execution_count": null,
      "outputs": [
        {
          "output_type": "stream",
          "name": "stdout",
          "text": [
            "please enter first number45\n",
            "please enter second number54\n",
            "Addition of both number:  99.0\n"
          ]
        }
      ]
    },
    {
      "cell_type": "code",
      "metadata": {
        "id": "zIC6EDDqz1Ad"
      },
      "source": [
        "# Q - 7 Write a program which takes 5 inputs from user for different subject’s marks, total it\n",
        "  #  and generate mark sheet using grades ? "
      ],
      "execution_count": null,
      "outputs": []
    },
    {
      "cell_type": "code",
      "metadata": {
        "colab": {
          "base_uri": "https://localhost:8080/"
        },
        "id": "py249kF20IOg",
        "outputId": "e596812b-e6c9-46fc-b4ee-2ab40cc2671e"
      },
      "source": [
        "Math = int(input(\"Please Enter Math Marks: \"))\n",
        "Eng = int(input(\"Please Enter English Marks: \"))\n",
        "Isl = int(input(\"Please Enter Islamiat Marks: \"))\n",
        "Urd = int(input(\"Please Enter Urdu Marks: \"))\n",
        "Sci = int(input(\"Please Enter Science Marks: \"))\n",
        "markObtained = (Math + Eng + Isl + Urd + Sci)\n",
        "totalMark = 500;\n",
        "percentage = (markObtained/totalMark) * 100\n",
        "print(percentage)\n",
        "if percentage >= 90 and percentage <= 100:\n",
        "  print('Grade A+', percentage,'%')\n",
        "elif percentage >= 80 and percentage < 90:\n",
        "  print('Grade A1', percentage,'%')\n",
        "elif percentage >= 70 and percentage < 80:\n",
        "  print('Grade A', percentage,'%')\n",
        "elif percentage >= 60 and percentage < 70 :\n",
        "  print('Grade B', percentage,'%')\n",
        "elif percentage >= 50 and percentage < 60:\n",
        "  print('Grade C', percentage,'%')\n",
        "else:\n",
        "  print('Failed', percentage,'%')\n"
      ],
      "execution_count": null,
      "outputs": [
        {
          "output_type": "stream",
          "name": "stdout",
          "text": [
            "Please Enter Math Marks: 50\n",
            "Please Enter English Marks: 50\n",
            "Please Enter Islamiat Marks: 50\n",
            "Please Enter Urdu Marks: 50\n",
            "Please Enter Science Marks: 50\n",
            "50.0\n",
            "Grade C 50.0 %\n"
          ]
        }
      ]
    },
    {
      "cell_type": "code",
      "metadata": {
        "id": "g12Y7Jhj0ibP"
      },
      "source": [
        "# Q - 8 Write a program which take input from user and identify that the given number is even\n",
        "#   or odd?"
      ],
      "execution_count": null,
      "outputs": []
    },
    {
      "cell_type": "code",
      "metadata": {
        "colab": {
          "base_uri": "https://localhost:8080/"
        },
        "id": "WIACz8ndjSyb",
        "outputId": "d8b7bb58-591b-4018-de01-5e6875cb6209"
      },
      "source": [
        "num = int(input('Please Enter a number for even or odd checking: '))\n",
        "if num%2 == 0:\n",
        "  print('Number is even:', num)\n",
        "else:\n",
        "  print('Number is odd', num)"
      ],
      "execution_count": null,
      "outputs": [
        {
          "output_type": "stream",
          "name": "stdout",
          "text": [
            "Please Enter a number for even or odd checking: 56\n",
            "Number is even: 56\n"
          ]
        }
      ]
    },
    {
      "cell_type": "code",
      "metadata": {
        "id": "mZMJ2egUnQ6E"
      },
      "source": [
        "# Q - 9 Write a program which print the length of the list? "
      ],
      "execution_count": null,
      "outputs": []
    },
    {
      "cell_type": "code",
      "metadata": {
        "colab": {
          "base_uri": "https://localhost:8080/"
        },
        "id": "FJgGPrjMqTA9",
        "outputId": "aab198b4-d17f-4e23-e72e-609c065ffcac"
      },
      "source": [
        "lengthOfList = ['Orange', 'Mango', 'Banana', 'Lemon']\n",
        "print('Length of:', len(lengthOfList))"
      ],
      "execution_count": null,
      "outputs": [
        {
          "output_type": "stream",
          "name": "stdout",
          "text": [
            "Length of: 4\n"
          ]
        }
      ]
    },
    {
      "cell_type": "code",
      "metadata": {
        "id": "l2T8UeV0rYdp"
      },
      "source": [
        "# Q - 10 Write a Python program to sum all the numeric items in a list? "
      ],
      "execution_count": null,
      "outputs": []
    },
    {
      "cell_type": "code",
      "metadata": {
        "colab": {
          "base_uri": "https://localhost:8080/"
        },
        "id": "EJZgkZpqrgsR",
        "outputId": "be92682c-eb9b-4efa-d774-abf58c9deb73"
      },
      "source": [
        "numLst = [ 25,65,54,85,45,74,54 ]\n",
        "total = 0\n",
        "for x in range(0, len(numLst)):\n",
        "  total = total + numLst[x]\n",
        "print('Total of numList: ', total)"
      ],
      "execution_count": null,
      "outputs": [
        {
          "output_type": "stream",
          "name": "stdout",
          "text": [
            "Total of numList:  402\n"
          ]
        }
      ]
    },
    {
      "cell_type": "code",
      "metadata": {
        "id": "_Jpp888dwmue"
      },
      "source": [
        " # Q - 11 Write a Python program to get the largest number from a numeric list"
      ],
      "execution_count": null,
      "outputs": []
    },
    {
      "cell_type": "code",
      "metadata": {
        "colab": {
          "base_uri": "https://localhost:8080/"
        },
        "id": "hFnmpfM40UvR",
        "outputId": "bcf19298-545c-409d-8bfc-5fc5c4b335e4"
      },
      "source": [
        "numLst_2 = [ 25,65,54,85,45,74,54 ]\n",
        "print('Max:',max(numLst_2))\n",
        "\n",
        "  "
      ],
      "execution_count": null,
      "outputs": [
        {
          "output_type": "stream",
          "name": "stdout",
          "text": [
            "Max: 85\n"
          ]
        }
      ]
    },
    {
      "cell_type": "code",
      "metadata": {
        "id": "CHOxcLz40YA6"
      },
      "source": [
        "# Q - 12 . Take a list, say for example this one:\n",
        "\n",
        "# a = [1, 1, 2, 3, 5, 8, 13, 21, 34, 55, 89]\n",
        " # Write a program that prints out all the elements of the list that are less than 5. "
      ],
      "execution_count": null,
      "outputs": []
    },
    {
      "cell_type": "code",
      "metadata": {
        "colab": {
          "base_uri": "https://localhost:8080/"
        },
        "id": "fZYQJBJ33oU-",
        "outputId": "2836f195-81f4-4085-adfd-af8e5b08cf7b"
      },
      "source": [
        "a = [1, 1, 2, 3, 5, 8, 13, 21, 34, 55, 89]\n",
        "for x in a:\n",
        "  if x <= 5:\n",
        "    print(x)"
      ],
      "execution_count": null,
      "outputs": [
        {
          "output_type": "stream",
          "name": "stdout",
          "text": [
            "1\n",
            "1\n",
            "2\n",
            "3\n",
            "5\n"
          ]
        }
      ]
    }
  ]
}